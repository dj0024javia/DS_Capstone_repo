{
    "cells": [
        {
            "cell_type": "markdown",
            "metadata": {},
            "source": "# House Pricing Capstone Project"
        },
        {
            "cell_type": "markdown",
            "metadata": {},
            "source": "Author - Dhaval Javia"
        },
        {
            "cell_type": "markdown",
            "metadata": {},
            "source": "### Problem Statement:"
        },
        {
            "cell_type": "markdown",
            "metadata": {},
            "source": "Hello, My name is Dhaval Javia and I am from India currently working at Infosys. I was thinking to moving abroad and for that first thing you search for when you reach there is House to stay (Of course Food comes first but for now let's keep the hungar  aside.) Let's assume that i will be able to buy a house in a year so i need some sort of system where i can search and compare house prices as per neighborhood.  "
        },
        {
            "cell_type": "markdown",
            "metadata": {},
            "source": "### Business Model:"
        },
        {
            "cell_type": "markdown",
            "metadata": {},
            "source": "By the end of this notebook, we should be able to predict housing prices for neighborhood based on features and location and many other dependent parameters. Main focus of audiance is the person living in State for quite some time and now wants a house of his/her own in a choice of neighborhood."
        },
        {
            "cell_type": "markdown",
            "metadata": {},
            "source": "### Data Description"
        },
        {
            "cell_type": "markdown",
            "metadata": {},
            "source": "Ask a home buyer to describe their dream house, and they probably won't begin with the height of the basement ceiling or the proximity to an east-west railroad. But this dataset proves that much more influences price negotiations than the number of bedrooms or a white-picket fence."
        },
        {
            "cell_type": "markdown",
            "metadata": {},
            "source": "Following Data will be used to solve the problem at hand.\n\n1. Neighborhood data from Foursquare API\n10. Location data from geopy or foursquare API.\n20. Pricing dataset with house features."
        },
        {
            "cell_type": "markdown",
            "metadata": {},
            "source": "### Data Sources"
        },
        {
            "cell_type": "markdown",
            "metadata": {},
            "source": "We have data available from varius sources but i found this housing price dataset from Kaggle.com which has dataset splitted in training and testset. Also dataset is unorganized. So lot of cleaning and data wrangling will be required."
        },
        {
            "cell_type": "markdown",
            "metadata": {},
            "source": "1. Location data and neighborhood data from Foursquare API\n2. Traing Dataset available on Kaggle.com(https://www.kaggle.com/c/house-prices-advanced-regression-techniques/overview)\n3. Test Dataset avaiable on Kaggle.com(https://www.kaggle.com/c/house-prices-advanced-regression-techniques/overview)"
        },
        {
            "cell_type": "markdown",
            "metadata": {},
            "source": "### Methodology"
        },
        {
            "cell_type": "markdown",
            "metadata": {},
            "source": "We will be using dataset with below features and some of the features will be removed after analysis and if the dependency is not found on Sales Price, then we can safely eliminate those features from our analysis.\n\n    Firstly, we will convert each feature to numeric value or some definite categories and then plot each feature w.r.t. Sales Price to find out dependency of each feature on Sales Price. Also, We will be using HeatMap to visulize dependency of each feature on Sales Price.\n\n    After above step, we will finalize the data and assign each house with its latitude and longitude using Foursquare API and then use this data to predict Sales Price and plot the data onto Folium Map for better visulization."
        },
        {
            "cell_type": "markdown",
            "metadata": {},
            "source": "Following details are available in the dataset with description."
        },
        {
            "cell_type": "markdown",
            "metadata": {},
            "source": "Data fields\nHere's a brief version of what you'll find in the data description file.\n\n1. SalePrice - the property's sale price in dollars. This is the target variable that you're trying to predict.\n2. MSSubClass: The building class\n5. MSZoning: The general zoning classification\n5. LotFrontage: Linear feet of street connected to property\n5. LotArea: Lot size in square feet\n5. Street: Type of road access\n5. Alley: Type of alley access\n5. LotShape: General shape of property\n5. LandContour: Flatness of the property\n5. Utilities: Type of utilities available\n5. LotConfig: Lot configuration\n5. LandSlope: Slope of property\n5. Neighborhood: Physical locations within Ames city limits\n5. Condition1: Proximity to main road or railroad\n5. Condition2: Proximity to main road or railroad (if a second is present)\n5. BldgType: Type of dwelling\n5. HouseStyle: Style of dwelling\n5. OverallQual: Overall material and finish quality\n5. OverallCond: Overall condition rating\n5. YearBuilt: Original construction date\n5. YearRemodAdd: Remodel date\n5. RoofStyle: Type of roof\n5. RoofMatl: Roof material\n5. Exterior1st: Exterior covering on house\n5. Exterior2nd: Exterior covering on house (if more than one material)\n5. MasVnrType: Masonry veneer type\n5. MasVnrArea: Masonry veneer area in square feet\n5. ExterQual: Exterior material quality\n5. ExterCond: Present condition of the material on the exterior\n5. Foundation: Type of foundation\n5. BsmtQual: Height of the basement\n5. BsmtCond: General condition of the basement\n5. BsmtExposure: Walkout or garden level basement walls\n5. BsmtFinType1: Quality of basement finished area\n5. BsmtFinSF1: Type 1 finished square feet\n5. BsmtFinType2: Quality of second finished area (if present)\n5. BsmtFinSF2: Type 2 finished square feet\n5. BsmtUnfSF: Unfinished square feet of basement area\n5. TotalBsmtSF: Total square feet of basement area\n5. Heating: Type of heating\n5. HeatingQC: Heating quality and condition\n5. CentralAir: Central air conditioning\n5. Electrical: Electrical system\n5. 1stFlrSF: First Floor square feet\n5. 2ndFlrSF: Second floor square feet\n5. LowQualFinSF: Low quality finished square feet (all floors)\n5. GrLivArea: Above grade (ground) living area square feet\n5. BsmtFullBath: Basement full bathrooms\n5. BsmtHalfBath: Basement half bathrooms\n5. FullBath: Full bathrooms above grade\n5. HalfBath: Half baths above grade\n5. Bedroom: Number of bedrooms above basement level\n5. Kitchen: Number of kitchens\n5. KitchenQual: Kitchen quality\n5. TotRmsAbvGrd: Total rooms above grade (does not include bathrooms)\n5. Functional: Home functionality rating\n5. Fireplaces: Number of fireplaces\n5. FireplaceQu: Fireplace quality\n5. GarageType: Garage location\n5. GarageYrBlt: Year garage was built\n5. GarageFinish: Interior finish of the garage\n5. GarageCars: Size of garage in car capacity\n5. GarageArea: Size of garage in square feet\n5. GarageQual: Garage quality\n5. GarageCond: Garage condition\n5. PavedDrive: Paved driveway\n5. WoodDeckSF: Wood deck area in square feet\n5. OpenPorchSF: Open porch area in square feet\n5. EnclosedPorch: Enclosed porch area in square feet\n5. 3SsnPorch: Three season porch area in square feet\n5. ScreenPorch: Screen porch area in square feet\n5. PoolArea: Pool area in square feet\n5. PoolQC: Pool quality\n5. Fence: Fence quality\n5. MiscFeature: Miscellaneous feature not covered in other categories\n5. MiscVal: $Value of miscellaneous feature\n5. MoSold: Month Sold\n5. YrSold: Year Sold\n5. SaleType: Type of sale\n5. SaleCondition: Condition of sale"
        },
        {
            "cell_type": "code",
            "execution_count": null,
            "metadata": {},
            "outputs": [],
            "source": ""
        }
    ],
    "metadata": {
        "kernelspec": {
            "display_name": "Python 3.6",
            "language": "python",
            "name": "python3"
        },
        "language_info": {
            "codemirror_mode": {
                "name": "ipython",
                "version": 3
            },
            "file_extension": ".py",
            "mimetype": "text/x-python",
            "name": "python",
            "nbconvert_exporter": "python",
            "pygments_lexer": "ipython3",
            "version": "3.6.9"
        }
    },
    "nbformat": 4,
    "nbformat_minor": 4
}