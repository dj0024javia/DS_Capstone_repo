{
    "cells": [
        {
            "cell_type": "code",
            "execution_count": 92,
            "metadata": {},
            "outputs": [],
            "source": "# The code was removed by Watson Studio for sharing."
        },
        {
            "cell_type": "code",
            "execution_count": 93,
            "metadata": {},
            "outputs": [
                {
                    "name": "stdout",
                    "output_type": "stream",
                    "text": "Requirement already satisfied: geocoder in /opt/conda/envs/Python36/lib/python3.6/site-packages (1.38.1)\nRequirement already satisfied: requests in /opt/conda/envs/Python36/lib/python3.6/site-packages (from geocoder) (2.21.0)\nRequirement already satisfied: click in /opt/conda/envs/Python36/lib/python3.6/site-packages (from geocoder) (7.0)\nRequirement already satisfied: ratelim in /opt/conda/envs/Python36/lib/python3.6/site-packages (from geocoder) (0.1.6)\nRequirement already satisfied: future in /opt/conda/envs/Python36/lib/python3.6/site-packages (from geocoder) (0.17.1)\nRequirement already satisfied: six in /opt/conda/envs/Python36/lib/python3.6/site-packages (from geocoder) (1.12.0)\nRequirement already satisfied: chardet<3.1.0,>=3.0.2 in /opt/conda/envs/Python36/lib/python3.6/site-packages (from requests->geocoder) (3.0.4)\nRequirement already satisfied: urllib3<1.25,>=1.21.1 in /opt/conda/envs/Python36/lib/python3.6/site-packages (from requests->geocoder) (1.24.1)\nRequirement already satisfied: idna<2.9,>=2.5 in /opt/conda/envs/Python36/lib/python3.6/site-packages (from requests->geocoder) (2.8)\nRequirement already satisfied: certifi>=2017.4.17 in /opt/conda/envs/Python36/lib/python3.6/site-packages (from requests->geocoder) (2019.11.28)\nRequirement already satisfied: decorator in /opt/conda/envs/Python36/lib/python3.6/site-packages (from ratelim->geocoder) (4.3.2)\nRequirement already satisfied: selenium in /opt/conda/envs/Python36/lib/python3.6/site-packages (3.141.0)\nRequirement already satisfied: urllib3 in /opt/conda/envs/Python36/lib/python3.6/site-packages (from selenium) (1.24.1)\nRequirement already satisfied: geopy in /opt/conda/envs/Python36/lib/python3.6/site-packages (1.18.1)\nRequirement already satisfied: geographiclib<2,>=1.49 in /opt/conda/envs/Python36/lib/python3.6/site-packages (from geopy) (1.49)\nRequirement already satisfied: pgeocode in /opt/conda/envs/Python36/lib/python3.6/site-packages (0.2.1)\nRequirement already satisfied: pandas in /opt/conda/envs/Python36/lib/python3.6/site-packages (from pgeocode) (0.24.1)\nRequirement already satisfied: numpy in /opt/conda/envs/Python36/lib/python3.6/site-packages (from pgeocode) (1.15.4)\nRequirement already satisfied: requests in /opt/conda/envs/Python36/lib/python3.6/site-packages (from pgeocode) (2.21.0)\nRequirement already satisfied: python-dateutil>=2.5.0 in /opt/conda/envs/Python36/lib/python3.6/site-packages (from pandas->pgeocode) (2.7.5)\nRequirement already satisfied: pytz>=2011k in /opt/conda/envs/Python36/lib/python3.6/site-packages (from pandas->pgeocode) (2018.9)\nRequirement already satisfied: idna<2.9,>=2.5 in /opt/conda/envs/Python36/lib/python3.6/site-packages (from requests->pgeocode) (2.8)\nRequirement already satisfied: chardet<3.1.0,>=3.0.2 in /opt/conda/envs/Python36/lib/python3.6/site-packages (from requests->pgeocode) (3.0.4)\nRequirement already satisfied: urllib3<1.25,>=1.21.1 in /opt/conda/envs/Python36/lib/python3.6/site-packages (from requests->pgeocode) (1.24.1)\nRequirement already satisfied: certifi>=2017.4.17 in /opt/conda/envs/Python36/lib/python3.6/site-packages (from requests->pgeocode) (2019.11.28)\nRequirement already satisfied: six>=1.5 in /opt/conda/envs/Python36/lib/python3.6/site-packages (from python-dateutil>=2.5.0->pandas->pgeocode) (1.12.0)\n"
                }
            ],
            "source": "!pip install geocoder\n!pip install selenium\n!pip install geopy\n!pip install pgeocode\nfrom selenium import webdriver\nfrom bs4 import BeautifulSoup\nimport pandas as pd\nimport requests\nimport urllib.request\nimport time"
        },
        {
            "cell_type": "code",
            "execution_count": 94,
            "metadata": {},
            "outputs": [],
            "source": "# The code was removed by Watson Studio for sharing."
        },
        {
            "cell_type": "code",
            "execution_count": 95,
            "metadata": {},
            "outputs": [
                {
                    "data": {
                        "text/html": "<div>\n<style scoped>\n    .dataframe tbody tr th:only-of-type {\n        vertical-align: middle;\n    }\n\n    .dataframe tbody tr th {\n        vertical-align: top;\n    }\n\n    .dataframe thead th {\n        text-align: right;\n    }\n</style>\n<table border=\"1\" class=\"dataframe\">\n  <thead>\n    <tr style=\"text-align: right;\">\n      <th></th>\n      <th>Postcode</th>\n      <th>borough</th>\n      <th>neighbourhood</th>\n    </tr>\n  </thead>\n  <tbody>\n    <tr>\n      <th>0</th>\n      <td>M1B</td>\n      <td>Scarborough</td>\n      <td>Rouge,Malvern</td>\n    </tr>\n    <tr>\n      <th>1</th>\n      <td>M1C</td>\n      <td>Scarborough</td>\n      <td>Highland Creek,Rouge Hill,Port Union</td>\n    </tr>\n    <tr>\n      <th>2</th>\n      <td>M1E</td>\n      <td>Scarborough</td>\n      <td>Guildwood,Morningside,West Hill</td>\n    </tr>\n    <tr>\n      <th>3</th>\n      <td>M1G</td>\n      <td>Scarborough</td>\n      <td>Woburn</td>\n    </tr>\n    <tr>\n      <th>4</th>\n      <td>M1H</td>\n      <td>Scarborough</td>\n      <td>Cedarbrae</td>\n    </tr>\n  </tbody>\n</table>\n</div>",
                        "text/plain": "  Postcode      borough                         neighbourhood\n0      M1B  Scarborough                         Rouge,Malvern\n1      M1C  Scarborough  Highland Creek,Rouge Hill,Port Union\n2      M1E  Scarborough       Guildwood,Morningside,West Hill\n3      M1G  Scarborough                                Woburn\n4      M1H  Scarborough                             Cedarbrae"
                    },
                    "execution_count": 95,
                    "metadata": {},
                    "output_type": "execute_result"
                }
            ],
            "source": "toronto_df = df_data_1\ntoronto_df.head()"
        },
        {
            "cell_type": "code",
            "execution_count": 96,
            "metadata": {},
            "outputs": [
                {
                    "name": "stdout",
                    "output_type": "stream",
                    "text": "Postcode = M1B, lat = 43.8113,, longitude = -79.193\nPostcode = M1C, lat = 43.7878,, longitude = -79.1564\nPostcode = M1E, lat = 43.7678,, longitude = -79.1866\nPostcode = M1G, lat = 43.7712,, longitude = -79.2144\nPostcode = M1H, lat = 43.7686,, longitude = -79.2389\nPostcode = M1J, lat = 43.7464,, longitude = -79.2323\nPostcode = M1K, lat = 43.7298,, longitude = -79.2639\nPostcode = M1L, lat = 43.7122,, longitude = -79.2843\nPostcode = M1M, lat = 43.7247,, longitude = -79.2312\nPostcode = M1N, lat = 43.6952,, longitude = -79.2646\nPostcode = M1P, lat = 43.7612,, longitude = -79.2707\nPostcode = M1R, lat = 43.7507,, longitude = -79.3003\nPostcode = M1S, lat = 43.7946,, longitude = -79.2644\nPostcode = M1T, lat = 43.7812,, longitude = -79.3036\nPostcode = M1V, lat = 43.8177,, longitude = -79.2819\nPostcode = M1W, lat = 43.8016,, longitude = -79.3216\nPostcode = M1X, lat = 43.834,, longitude = -79.2069\nPostcode = M2H, lat = 43.8015,, longitude = -79.3577\nPostcode = M2J, lat = 43.7801,, longitude = -79.3479\nPostcode = M2K, lat = 43.7797,, longitude = -79.3813\nPostcode = M2L, lat = 43.7547,, longitude = -79.3764\nPostcode = M2M, lat = 43.7915,, longitude = -79.4103\nPostcode = M2N, lat = 43.7673,, longitude = -79.4111\nPostcode = M2P, lat = 43.75,, longitude = -79.3978\nPostcode = M2R, lat = 43.7786,, longitude = -79.445\nPostcode = M3A, lat = 43.7545,, longitude = -79.33\nPostcode = M3B, lat = 43.745,, longitude = -79.359\nPostcode = M3C, lat = 43.7334,, longitude = -79.3329\nPostcode = M3H, lat = 43.7535,, longitude = -79.4472\nPostcode = M3J, lat = 43.7694,, longitude = -79.4921\nPostcode = M3K, lat = 43.739,, longitude = -79.4692\nPostcode = M3L, lat = 43.7334,, longitude = -79.5116\nPostcode = M3M, lat = 43.7319,, longitude = -79.4928\nPostcode = M3N, lat = 43.7568,, longitude = -79.521\nPostcode = M4A, lat = 43.7276,, longitude = -79.3148\nPostcode = M4B, lat = 43.7063,, longitude = -79.3094\nPostcode = M4C, lat = 43.6913,, longitude = -79.3116\nPostcode = M4E, lat = 43.6784,, longitude = -79.2941\nPostcode = M4G, lat = 43.7124,, longitude = -79.3644\nPostcode = M4H, lat = 43.7059,, longitude = -79.3464\nPostcode = M4J, lat = 43.6872,, longitude = -79.3368\nPostcode = M4K, lat = 43.6803,, longitude = -79.3538\nPostcode = M4L, lat = 43.6693,, longitude = -79.3155\nPostcode = M4M, lat = 43.6561,, longitude = -79.3406\nPostcode = M4N, lat = 43.7301,, longitude = -79.3935\nPostcode = M4P, lat = 43.7135,, longitude = -79.3887\nPostcode = M4R, lat = 43.7143,, longitude = -79.4065\nPostcode = M4S, lat = 43.702,, longitude = -79.3853\nPostcode = M4T, lat = 43.6899,, longitude = -79.3853\nPostcode = M4V, lat = 43.6861,, longitude = -79.4025\nPostcode = M4W, lat = 43.6827,, longitude = -79.373\nPostcode = M4X, lat = 43.6684,, longitude = -79.3689\nPostcode = M4Y, lat = 43.6656,, longitude = -79.383\nPostcode = M5A, lat = 43.6555,, longitude = -79.3626\nPostcode = M5B, lat = 43.6572,, longitude = -79.3783\nPostcode = M5C, lat = 43.6513,, longitude = -79.3756\nPostcode = M5E, lat = 43.6456,, longitude = -79.3754\nPostcode = M5G, lat = 43.6564,, longitude = -79.38600000000002\nPostcode = M5H, lat = 43.6496,, longitude = -79.3833\nPostcode = M5J, lat = 43.62300000000001,, longitude = -79.3936\nPostcode = M5K, lat = 43.6469,, longitude = -79.3823\nPostcode = M5L, lat = 43.6492,, longitude = -79.3823\nPostcode = M5M, lat = 43.7335,, longitude = -79.4177\nPostcode = M5N, lat = 43.7113,, longitude = -79.4195\nPostcode = M5P, lat = 43.6966,, longitude = -79.41199999999998\nPostcode = M5R, lat = 43.6736,, longitude = -79.4035\nPostcode = M5S, lat = 43.6629,, longitude = -79.3987\nPostcode = M5T, lat = 43.6541,, longitude = -79.3978\nPostcode = M5V, lat = 43.6404,, longitude = -79.3995\nPostcode = M5W, lat = 43.6437,, longitude = -79.3787\nPostcode = M5X, lat = 43.6492,, longitude = -79.3823\nPostcode = M6A, lat = 43.7223,, longitude = -79.4504\nPostcode = M6B, lat = 43.7081,, longitude = -79.4479\nPostcode = M6C, lat = 43.6915,, longitude = -79.4307\nPostcode = M6E, lat = 43.6889,, longitude = -79.4507\nPostcode = M6G, lat = 43.6683,, longitude = -79.4205\nPostcode = M6H, lat = 43.6655,, longitude = -79.4378\nPostcode = M6J, lat = 43.648,, longitude = -79.4177\nPostcode = M6K, lat = 43.6383,, longitude = -79.4301\nPostcode = M6L, lat = 43.7137,, longitude = -79.4869\nPostcode = M6M, lat = 43.6934,, longitude = -79.4857\nPostcode = M6N, lat = 43.6748,, longitude = -79.4839\nPostcode = M6P, lat = 43.6605,, longitude = -79.4633\nPostcode = M6R, lat = 43.6469,, longitude = -79.4521\nPostcode = M6S, lat = 43.6512,, longitude = -79.4828\nPostcode = M7A, lat = 43.6641,, longitude = -79.3889\nPostcode = M7R, lat = nan,, longitude = nan\nPostcode = M7Y, lat = 43.7804,, longitude = -79.2505\nPostcode = M8V, lat = 43.6075,, longitude = -79.5013\nPostcode = M8W, lat = 43.6021,, longitude = -79.5402\nPostcode = M8X, lat = 43.6518,, longitude = -79.5076\nPostcode = M8Y, lat = 43.6325,, longitude = -79.4939\nPostcode = M8Z, lat = 43.6256,, longitude = -79.5231\nPostcode = M9A, lat = 43.6662,, longitude = -79.5282\nPostcode = M9B, lat = 43.6505,, longitude = -79.5517\nPostcode = M9C, lat = 43.6437,, longitude = -79.5767\nPostcode = M9L, lat = 43.7598,, longitude = -79.5565\nPostcode = M9M, lat = 43.7366,, longitude = -79.5401\nPostcode = M9N, lat = 43.7068,, longitude = -79.517\nPostcode = M9P, lat = 43.6949,, longitude = -79.5323\nPostcode = M9R, lat = 43.6898,, longitude = -79.5582\nPostcode = M9V, lat = 43.7432,, longitude = -79.5876\nPostcode = M9W, lat = 43.7144,, longitude = -79.5909\n"
                }
            ],
            "source": "\nimport pgeocode\nfrom geopy.geocoders import Nominatim\nlocator = pgeocode.Nominatim('CA')\nfor row in range(0,toronto_df.shape[0]):\n    postal_code = toronto_df.iloc[row]['Postcode']\n    l = locator.query_postal_code(postal_code)\n    print('Postcode = {}, lat = {},, longitude = {}'.format(postal_code, l.latitude, l.longitude))\n    #toronto_df[postal_code] = toronto_df[l.latitude]\n    #toronto_df = toronto_df.assign(Latitude = lamda x: l.latitude)\n    #toronto_df[[postal_code]]['Latitude'] = l.latitude\n    #toronto_df[[postal_code]]['Longitude'] = l.longitude\n    toronto_df.loc[toronto_df['Postcode']==postal_code, 'latitude'] = l.latitude\n    toronto_df.loc[toronto_df['Postcode']==postal_code, 'longitude'] = l.longitude\n    \n"
        },
        {
            "cell_type": "code",
            "execution_count": 97,
            "metadata": {},
            "outputs": [
                {
                    "data": {
                        "text/html": "<div>\n<style scoped>\n    .dataframe tbody tr th:only-of-type {\n        vertical-align: middle;\n    }\n\n    .dataframe tbody tr th {\n        vertical-align: top;\n    }\n\n    .dataframe thead th {\n        text-align: right;\n    }\n</style>\n<table border=\"1\" class=\"dataframe\">\n  <thead>\n    <tr style=\"text-align: right;\">\n      <th></th>\n      <th>Postcode</th>\n      <th>borough</th>\n      <th>neighbourhood</th>\n      <th>latitude</th>\n      <th>longitude</th>\n    </tr>\n  </thead>\n  <tbody>\n    <tr>\n      <th>0</th>\n      <td>M1B</td>\n      <td>Scarborough</td>\n      <td>Rouge,Malvern</td>\n      <td>43.8113</td>\n      <td>-79.1930</td>\n    </tr>\n    <tr>\n      <th>1</th>\n      <td>M1C</td>\n      <td>Scarborough</td>\n      <td>Highland Creek,Rouge Hill,Port Union</td>\n      <td>43.7878</td>\n      <td>-79.1564</td>\n    </tr>\n    <tr>\n      <th>2</th>\n      <td>M1E</td>\n      <td>Scarborough</td>\n      <td>Guildwood,Morningside,West Hill</td>\n      <td>43.7678</td>\n      <td>-79.1866</td>\n    </tr>\n    <tr>\n      <th>3</th>\n      <td>M1G</td>\n      <td>Scarborough</td>\n      <td>Woburn</td>\n      <td>43.7712</td>\n      <td>-79.2144</td>\n    </tr>\n    <tr>\n      <th>4</th>\n      <td>M1H</td>\n      <td>Scarborough</td>\n      <td>Cedarbrae</td>\n      <td>43.7686</td>\n      <td>-79.2389</td>\n    </tr>\n  </tbody>\n</table>\n</div>",
                        "text/plain": "  Postcode      borough                         neighbourhood  latitude  \\\n0      M1B  Scarborough                         Rouge,Malvern   43.8113   \n1      M1C  Scarborough  Highland Creek,Rouge Hill,Port Union   43.7878   \n2      M1E  Scarborough       Guildwood,Morningside,West Hill   43.7678   \n3      M1G  Scarborough                                Woburn   43.7712   \n4      M1H  Scarborough                             Cedarbrae   43.7686   \n\n   longitude  \n0   -79.1930  \n1   -79.1564  \n2   -79.1866  \n3   -79.2144  \n4   -79.2389  "
                    },
                    "execution_count": 97,
                    "metadata": {},
                    "output_type": "execute_result"
                }
            ],
            "source": "toronto_df.head()"
        },
        {
            "cell_type": "code",
            "execution_count": 98,
            "metadata": {},
            "outputs": [
                {
                    "data": {
                        "text/plain": "{'file_name': 'toronto_lat_lon.csv',\n 'message': 'File saved to project storage.',\n 'bucket_name': 'ibmdscapstoneproject-donotdelete-pr-345qkkpanezvxh',\n 'asset_id': 'e039a476-a12e-4135-a440-c2b8e703476a'}"
                    },
                    "execution_count": 98,
                    "metadata": {},
                    "output_type": "execute_result"
                }
            ],
            "source": "project.save_data(data=toronto_df.to_csv(index=False),file_name='toronto_lat_lon.csv',overwrite=True)"
        },
        {
            "cell_type": "code",
            "execution_count": null,
            "metadata": {},
            "outputs": [],
            "source": ""
        }
    ],
    "metadata": {
        "kernelspec": {
            "display_name": "Python 3.6",
            "language": "python",
            "name": "python3"
        },
        "language_info": {
            "codemirror_mode": {
                "name": "ipython",
                "version": 3
            },
            "file_extension": ".py",
            "mimetype": "text/x-python",
            "name": "python",
            "nbconvert_exporter": "python",
            "pygments_lexer": "ipython3",
            "version": "3.6.9"
        }
    },
    "nbformat": 4,
    "nbformat_minor": 4
}