{
 "cells": [
  {
   "cell_type": "markdown",
   "metadata": {},
   "source": [
    "# House Pricing Capstone Project"
   ]
  },
  {
   "cell_type": "markdown",
   "metadata": {},
   "source": [
    "Author - Dhaval Javia"
   ]
  },
  {
   "cell_type": "markdown",
   "metadata": {},
   "source": [
    "### Problem Statement:"
   ]
  },
  {
   "cell_type": "markdown",
   "metadata": {},
   "source": [
    "Hello, My name is Dhaval Javia and I am from India currently working at Infosys. I was thinking to moving abroad and for that first thing you search for when you reach there is House to stay (Of course Food comes first but for now let's keep the hungar  aside.) Let's assume that i will be able to buy a house in a year so i need some sort of system where i can search and compare house prices as per neighborhood.  "
   ]
  },
  {
   "cell_type": "markdown",
   "metadata": {},
   "source": [
    "### Business Model:"
   ]
  },
  {
   "cell_type": "markdown",
   "metadata": {},
   "source": [
    "By the end of this notebook, we should be able to predict housing prices for neighborhood based on features and location and many other dependent parrameters."
   ]
  },
  {
   "cell_type": "markdown",
   "metadata": {},
   "source": [
    "### Data Description"
   ]
  },
  {
   "cell_type": "markdown",
   "metadata": {},
   "source": [
    "Ask a home buyer to describe their dream house, and they probably won't begin with the height of the basement ceiling or the proximity to an east-west railroad. But this dataset proves that much more influences price negotiations than the number of bedrooms or a white-picket fence."
   ]
  },
  {
   "cell_type": "markdown",
   "metadata": {},
   "source": [
    "Following Data will be used to solve the problem at hand.\n",
    "\n",
    "1. Neighborhood data from Foursquare API\n",
    "10. Location data from geopy or foursquare API.\n",
    "20. Pricing dataset with house features."
   ]
  },
  {
   "cell_type": "markdown",
   "metadata": {},
   "source": [
    "### Data Sources"
   ]
  },
  {
   "cell_type": "markdown",
   "metadata": {},
   "source": [
    "We have data available from varius sources but i found this housing price dataset from Kaggle.com which has dataset splitted in training and testset. Also dataset is unorganized. So lot of cleaning and data wrangling will be required."
   ]
  },
  {
   "cell_type": "markdown",
   "metadata": {},
   "source": [
    "1. Location data and neighborhood data from Foursquare API\n",
    "2. Traing Dataset available on Kaggle.com(https://www.kaggle.com/c/house-prices-advanced-regression-techniques/overview)\n",
    "3. Test Dataset avaiable on Kaggle.com(https://www.kaggle.com/c/house-prices-advanced-regression-techniques/overview)"
   ]
  },
  {
   "cell_type": "markdown",
   "metadata": {},
   "source": [
    "Following details are available in the dataset with description."
   ]
  },
  {
   "cell_type": "markdown",
   "metadata": {},
   "source": [
    "Data fields\n",
    "Here's a brief version of what you'll find in the data description file.\n",
    "\n",
    "1. SalePrice - the property's sale price in dollars. This is the target variable that you're trying to predict.\n",
    "2. MSSubClass: The building class\n",
    "5. MSZoning: The general zoning classification\n",
    "5. LotFrontage: Linear feet of street connected to property\n",
    "5. LotArea: Lot size in square feet\n",
    "5. Street: Type of road access\n",
    "5. Alley: Type of alley access\n",
    "5. LotShape: General shape of property\n",
    "5. LandContour: Flatness of the property\n",
    "5. Utilities: Type of utilities available\n",
    "5. LotConfig: Lot configuration\n",
    "5. LandSlope: Slope of property\n",
    "5. Neighborhood: Physical locations within Ames city limits\n",
    "5. Condition1: Proximity to main road or railroad\n",
    "5. Condition2: Proximity to main road or railroad (if a second is present)\n",
    "5. BldgType: Type of dwelling\n",
    "5. HouseStyle: Style of dwelling\n",
    "5. OverallQual: Overall material and finish quality\n",
    "5. OverallCond: Overall condition rating\n",
    "5. YearBuilt: Original construction date\n",
    "5. YearRemodAdd: Remodel date\n",
    "5. RoofStyle: Type of roof\n",
    "5. RoofMatl: Roof material\n",
    "5. Exterior1st: Exterior covering on house\n",
    "5. Exterior2nd: Exterior covering on house (if more than one material)\n",
    "5. MasVnrType: Masonry veneer type\n",
    "5. MasVnrArea: Masonry veneer area in square feet\n",
    "5. ExterQual: Exterior material quality\n",
    "5. ExterCond: Present condition of the material on the exterior\n",
    "5. Foundation: Type of foundation\n",
    "5. BsmtQual: Height of the basement\n",
    "5. BsmtCond: General condition of the basement\n",
    "5. BsmtExposure: Walkout or garden level basement walls\n",
    "5. BsmtFinType1: Quality of basement finished area\n",
    "5. BsmtFinSF1: Type 1 finished square feet\n",
    "5. BsmtFinType2: Quality of second finished area (if present)\n",
    "5. BsmtFinSF2: Type 2 finished square feet\n",
    "5. BsmtUnfSF: Unfinished square feet of basement area\n",
    "5. TotalBsmtSF: Total square feet of basement area\n",
    "5. Heating: Type of heating\n",
    "5. HeatingQC: Heating quality and condition\n",
    "5. CentralAir: Central air conditioning\n",
    "5. Electrical: Electrical system\n",
    "5. 1stFlrSF: First Floor square feet\n",
    "5. 2ndFlrSF: Second floor square feet\n",
    "5. LowQualFinSF: Low quality finished square feet (all floors)\n",
    "5. GrLivArea: Above grade (ground) living area square feet\n",
    "5. BsmtFullBath: Basement full bathrooms\n",
    "5. BsmtHalfBath: Basement half bathrooms\n",
    "5. FullBath: Full bathrooms above grade\n",
    "5. HalfBath: Half baths above grade\n",
    "5. Bedroom: Number of bedrooms above basement level\n",
    "5. Kitchen: Number of kitchens\n",
    "5. KitchenQual: Kitchen quality\n",
    "5. TotRmsAbvGrd: Total rooms above grade (does not include bathrooms)\n",
    "5. Functional: Home functionality rating\n",
    "5. Fireplaces: Number of fireplaces\n",
    "5. FireplaceQu: Fireplace quality\n",
    "5. GarageType: Garage location\n",
    "5. GarageYrBlt: Year garage was built\n",
    "5. GarageFinish: Interior finish of the garage\n",
    "5. GarageCars: Size of garage in car capacity\n",
    "5. GarageArea: Size of garage in square feet\n",
    "5. GarageQual: Garage quality\n",
    "5. GarageCond: Garage condition\n",
    "5. PavedDrive: Paved driveway\n",
    "5. WoodDeckSF: Wood deck area in square feet\n",
    "5. OpenPorchSF: Open porch area in square feet\n",
    "5. EnclosedPorch: Enclosed porch area in square feet\n",
    "5. 3SsnPorch: Three season porch area in square feet\n",
    "5. ScreenPorch: Screen porch area in square feet\n",
    "5. PoolArea: Pool area in square feet\n",
    "5. PoolQC: Pool quality\n",
    "5. Fence: Fence quality\n",
    "5. MiscFeature: Miscellaneous feature not covered in other categories\n",
    "5. MiscVal: $Value of miscellaneous feature\n",
    "5. MoSold: Month Sold\n",
    "5. YrSold: Year Sold\n",
    "5. SaleType: Type of sale\n",
    "5. SaleCondition: Condition of sale"
   ]
  },
  {
   "cell_type": "code",
   "execution_count": null,
   "metadata": {},
   "outputs": [],
   "source": []
  }
 ],
 "metadata": {
  "kernelspec": {
   "display_name": "Python 3",
   "language": "python",
   "name": "python3"
  },
  "language_info": {
   "codemirror_mode": {
    "name": "ipython",
    "version": 3
   },
   "file_extension": ".py",
   "mimetype": "text/x-python",
   "name": "python",
   "nbconvert_exporter": "python",
   "pygments_lexer": "ipython3",
   "version": "3.7.4"
  }
 },
 "nbformat": 4,
 "nbformat_minor": 4
}
